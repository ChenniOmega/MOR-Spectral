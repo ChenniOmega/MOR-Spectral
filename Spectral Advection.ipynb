{
 "cells": [
  {
   "cell_type": "code",
   "execution_count": null,
   "metadata": {
    "collapsed": true
   },
   "outputs": [],
   "source": [
    "import numpy as np\n",
    "import matplotlib.pyplot as plt\n",
    "%matplotlib inline\n",
    "import numpy.polynomial.chebyshev as cheb\n",
    "\n",
    "from matplotlib.animation import FuncAnimation\n",
    "from IPython.display import HTML\n",
    "plt.style.use('ggplot')"
   ]
  },
  {
   "cell_type": "markdown",
   "metadata": {},
   "source": [
    "# Chebshev collocation method for simple problem\n",
    "\n",
    "We solve the problem \n",
    "\n",
    "$$ \\partial_t u +v \\partial_x u =0$$\n",
    "\n",
    "for $x\\in [-1,1]$, with initial condition $u(x,0)=u_0(x)=\\sin(\\pi x)$ and boundary condition $u(-1,t)=g(t) = \\sin(-\\pi vt)$. This has exact solution $u(x,t)=\\sin(\\pi(x-vt))$."
   ]
  },
  {
   "cell_type": "code",
   "execution_count": null,
   "metadata": {
    "collapsed": false
   },
   "outputs": [],
   "source": [
    "v=2.\n",
    "u0=lambda x: np.sin(np.pi*x)\n",
    "g=lambda t: np.sin(np.pi*(1-v*t))\n",
    "ue=lambda x,t: np.sin(np.pi*(x-v*t))"
   ]
  },
  {
   "cell_type": "markdown",
   "metadata": {},
   "source": [
    "We seek a solution of the form \n",
    "$$ u^{(N)} (x,t) = \\sum_{k=0}^{N} \\hat{u}_k(t) T_k(x)$$\n",
    "where the $T_k$ are the $k$th degree Chebyshev polynomials."
   ]
  },
  {
   "cell_type": "markdown",
   "metadata": {},
   "source": [
    "### Calculating the coefficients- Chebyshev Gauss-Lobatto quadrature\n",
    "\n",
    "To find the coefficients $\\hat{u}_k$ we must perform an integration\n",
    "$$ \\hat{u}_k = \\frac{1}{\\gamma_k}(u,T_k)=\\int_{-1}^1 u(x)T_k(x)w(x)dx. $$\n",
    "\n",
    "Numerically, this is achieved via Gauss-Lobatto quadrature, in which the collocation points are at the extrema $X_j=-\\cos (\\frac{\\pi j}{N})$, $j=0...N$ (the negative is so they are in increasing order), resulting in the expression\n",
    "$$ \\hat{u}_k = \\frac{2}{N c_k}\\sum_{j=0}^N \\frac{1}{c_j} u(X_j) T_k(X_j),$$\n",
    "where\n",
    "$$ c_k=\\begin{array}{ll}\n",
    "             2 & k=0,N \\\\\n",
    "             1 & k=1,...N-1 \n",
    "            \\end{array}$$"
   ]
  },
  {
   "cell_type": "code",
   "execution_count": 3,
   "metadata": {
    "collapsed": false
   },
   "outputs": [],
   "source": [
    "N=10\n",
    "\n",
    "#Gauss-Lobatto points\n",
    "X=np.zeros(N+1)\n",
    "for j in range(N+1):\n",
    "    X[j]=-np.cos(np.pi*j/N)"
   ]
  },
  {
   "cell_type": "code",
   "execution_count": 4,
   "metadata": {
    "collapsed": true
   },
   "outputs": [],
   "source": [
    "def findCoeffs(U, X):\n",
    "    \"\"\"Find the coefficients for the expansion in a basis \n",
    "    of Chebyshev polynomials up to T_N calculated  \n",
    "    at the N+1 Gauss-Lobatto points\n",
    "    \n",
    "    Input: N+1 array U_j=u(X_j)\n",
    "           N+1 array X_j Gauss-Lobatto Chebyshev points \n",
    "    \n",
    "    Output: N+1- length numpy array containing coefficients uhat\n",
    "    \"\"\"\n",
    "    N=len(X)-1\n",
    "    \n",
    "    c=np.ones(N+1)\n",
    "    c[0]=2\n",
    "    c[-1]=2\n",
    "        \n",
    "    uhat=np.zeros(N+1)\n",
    "    \n",
    "    for k in range(N+1):\n",
    "        m=2./(N*c[k])\n",
    "        d=np.zeros(k+1)\n",
    "        d[-1]=1\n",
    "        for j in range(N+1):\n",
    "            uhat[k]=uhat[k]+U[j]*cheb.chebval(X[j],d)/c[j]\n",
    "        uhat[k]=m*uhat[k]\n",
    "    \n",
    "    return uhat"
   ]
  },
  {
   "cell_type": "code",
   "execution_count": 5,
   "metadata": {
    "collapsed": true
   },
   "outputs": [],
   "source": [
    "U0=u0(X)\n",
    "u0hat=findCoeffs(U0,X)"
   ]
  },
  {
   "cell_type": "markdown",
   "metadata": {},
   "source": [
    "The reconstruction is exact at the Gauss-Lobatto points and is given by\n",
    "$$ u_k \\equiv u^{(N)}(X_k)=\\sum_{i=0}^N \\hat{u}_i T_i(X_k)$$"
   ]
  },
  {
   "cell_type": "code",
   "execution_count": 6,
   "metadata": {
    "collapsed": true
   },
   "outputs": [],
   "source": [
    "def recon(uhat, X):\n",
    "    \"\"\" Given coefficients for the Chebyshev polynomials T_0...T_N, \n",
    "    find the value of the function at the N+1 Gauss-Lobatto points\n",
    "    \n",
    "    Input: N+1 array of the Chebyshev coefficients\n",
    "           N+1 array X_j Gauss-Lobatto Chebyshev points \n",
    "\n",
    "    Output: N+1 array of the function values at the GL points\n",
    "    \n",
    "    \"\"\"\n",
    "    N=len(uhat)-1\n",
    "  \n",
    "    uk=np.zeros(N+1)\n",
    "    for k in range(N+1):\n",
    "        for i in range(N+1):\n",
    "            d=np.zeros(i+1)\n",
    "            d[-1]=1\n",
    "            uk[k]=uk[k]+uhat[i]*cheb.chebval(X[k],d)\n",
    "\n",
    "    return uk"
   ]
  },
  {
   "cell_type": "markdown",
   "metadata": {},
   "source": [
    "Substituting the solution form into the problem definition, we get\n",
    "$$  \\sum_{k=0}^{N} d_t\\hat{u}_k(t) T_k(x) = -v  \\sum_{k=0}^{N} \\hat{u}_j d_x T_k(x).$$"
   ]
  },
  {
   "cell_type": "markdown",
   "metadata": {},
   "source": [
    "### Derivatives of Cheybshev polynomials\n",
    "\n",
    "The derivatives of the Chebyshev polynomials satisfy the relations \n",
    "$$ T'_n(x)=2n(T_{n-1}(x)+T_{n-3}(x) + T_{n-5}(x)...T_1(x)) \\mbox{   $n$ even} $$\n",
    "$$ T'_n(x)=2n(T_{n-1}(x)+T_{n-3}(x) + T_{n-5}(x)...T_2(x))+nT_0 \\mbox{   $n$ odd} $$\n",
    "We can express this as\n",
    "$$ T_j'(x) = \\sum_{k=0}^N D_{jk} T_k(x) $$ \n",
    "where\n",
    "$$ D_{jk}=\n",
    "\\left[ \\begin{array}{ccccc}\n",
    "0 & \\cdots & \\cdots &\\cdots & 0  \\\\\n",
    "1 & 0 & \\cdots & \\cdots & 0 \\\\\n",
    "0 & 4 & 0 & \\cdots & 0 \\\\\n",
    "3 & 0 & 6 & \\cdots & 0  \\\\\n",
    "\\vdots & & & \\ddots & \\vdots \\end{array} \\right]\n",
    "$$\n",
    "\n",
    "This means the derivative of our function $u$ can be written\n",
    "$$  u'(x)=\\sum_{j=0}^{N}\\sum_{k=0}^N \\hat{u}_j D_{jk} T_k(x)=\\sum_{k=0}^N \\tilde{u}_k T_k(x) $$ \n",
    "where $\\tilde{u}_k=\\sum_{j=0}^{N}\\hat{u}_j D_{jk}$."
   ]
  },
  {
   "cell_type": "code",
   "execution_count": 7,
   "metadata": {
    "collapsed": true
   },
   "outputs": [],
   "source": [
    "def chebDerivativeMatrix(N):\n",
    "    D=np.zeros((N,N))\n",
    "    for n in range(N):\n",
    "        if n == 0:\n",
    "            continue\n",
    "        elif n%2==0:\n",
    "            i=n-1\n",
    "            while i > 0:\n",
    "                D[n,i]=2*n\n",
    "                i=i-2\n",
    "        else:\n",
    "            i=n-1\n",
    "            while i>0:\n",
    "                D[n,i]=2*n\n",
    "                i=i-2\n",
    "            D[n,0]=n\n",
    "    return D"
   ]
  },
  {
   "cell_type": "code",
   "execution_count": 8,
   "metadata": {
    "collapsed": false
   },
   "outputs": [],
   "source": [
    "D=chebDerivativeMatrix(len(u0hat))"
   ]
  },
  {
   "cell_type": "markdown",
   "metadata": {},
   "source": [
    "Substituting this into the problem definition, we get\n",
    "$$ \\partial_t \\sum_{k=0}^{N} \\hat{u}_k(t) T_k(x) = -v  \\sum_{k=0}^{N} \\sum_{j=0}^{N}\\hat{u}_j D_{jk} T_k(x).$$\n",
    "By evaluating these at the interior Gauss-Lobatto points, we get a system of $N+1$ ODEs for the $N+1$ coefficients $u_k$. \n",
    "$$ \\frac{d}{dt}  \\sum_{k=0}^{N} \\hat{u}_k(t) T_k(X_i) = -v  \\sum_{k=0}^{N} \\sum_{j=0}^{N}\\hat{u}_j D_{jk} T_k(X_i).$$\n",
    "\n",
    "If we define $\\mathbb{T}_{ik}=T_k (X_i)$, we can write this in matrix form \n",
    "$$ \\mathbb{T} d_t \\hat{\\underline{u}} = -v \\mathbb{T} D^T  \\hat{\\underline{u}} $$"
   ]
  },
  {
   "cell_type": "code",
   "execution_count": 9,
   "metadata": {
    "collapsed": true
   },
   "outputs": [],
   "source": [
    "def Tmatrix(X):\n",
    "    N=len(X)-1\n",
    "    \n",
    "    T=np.zeros((N+1,N+1))\n",
    "      \n",
    "    for k in range(N+1):\n",
    "        d=np.zeros(k+1)\n",
    "        d[-1]=1\n",
    "        T[k]=cheb.chebval(X,d) #T_{ki}=T_k(X_i)\n",
    "    \n",
    "    T=T.T #T_{ki}=T_i(X_k)\n",
    "    \n",
    "    return T, np.linalg.inv(T)"
   ]
  },
  {
   "cell_type": "markdown",
   "metadata": {},
   "source": [
    "In this case, as $v$ is constant, we can cancel the $\\mathbb{T}$ to simply get\n",
    "$$  d_t \\hat{\\underline{u}} = -v D^T  \\hat{\\underline{u}} $$\n",
    "\n",
    "We'll integrate this using a simple Euler method"
   ]
  },
  {
   "cell_type": "code",
   "execution_count": 10,
   "metadata": {
    "collapsed": true
   },
   "outputs": [],
   "source": [
    "def euler(t,u,f,h):\n",
    "    u1=u+h*f(t,u)\n",
    "    t1=t+h\n",
    "    \n",
    "    return u1,t1"
   ]
  },
  {
   "cell_type": "code",
   "execution_count": 11,
   "metadata": {
    "collapsed": true
   },
   "outputs": [],
   "source": [
    "def f(t,u):\n",
    "    return -2*np.dot(D.T,u)"
   ]
  },
  {
   "cell_type": "markdown",
   "metadata": {},
   "source": [
    "The boundary conditions are enfoced exactly at each time step by calculating $\\underline{u}^{(N)}$ and setting $u^{(N)}_0=g(t)$.\n",
    "\n",
    "Algorithm:\n",
    "\n",
    "1. $t=0$\n",
    "2. Calculate $\\underline{\\hat{u}}(t)$\n",
    "3. Euler timestep to find $\\underline{\\hat{u}}(t+1)$, set $t=t+1$\n",
    "4. Calculate $\\underline{u}^{(N)}$\n",
    "5. Set $u^{(N)}_0 = g(t) $\n",
    "6. Return to 2\n"
   ]
  },
  {
   "cell_type": "code",
   "execution_count": 12,
   "metadata": {
    "collapsed": false
   },
   "outputs": [],
   "source": [
    "Tm,Tminv=Tmatrix(X)\n",
    "\n",
    "def fgott(t,u,T=Tm,Tinv=Tminv):\n",
    "    alpha=100\n",
    "    \n",
    "    w=np.zeros(len(u))\n",
    "    w[0]=np.dot(T[0], u)-g(t) \n",
    "        \n",
    "    return -2*np.dot(D.T,u)-alpha*np.dot(Tinv,w)"
   ]
  },
  {
   "cell_type": "code",
   "execution_count": 13,
   "metadata": {
    "collapsed": false
   },
   "outputs": [],
   "source": [
    "\n",
    "x=np.linspace(-1,1,100)"
   ]
  },
  {
   "cell_type": "code",
   "execution_count": 14,
   "metadata": {
    "collapsed": false,
    "scrolled": true
   },
   "outputs": [
    {
     "data": {
      "image/png": "[encoded data removed]",
      "text/plain": [
       "<matplotlib.figure.Figure at 0x2183326ee10>"
      ]
     },
     "metadata": {},
     "output_type": "display_data"
    }
   ],
   "source": [
    "uhat=[u0hat]\n",
    "uhat2=[u0hat]\n",
    "tt=0\n",
    "tt2=0\n",
    "t=np.linspace(0,1,1000)\n",
    "h=1./len(t)\n",
    "\n",
    "alpha=N**2\n",
    "\n",
    "\n",
    "\n",
    "for i in range(len(t)):\n",
    "    #timestep\n",
    "    u1,tt=euler(tt,uhat[i],f,h)\n",
    "    #impose BC\n",
    "    #reconstruct first\n",
    "    u2=recon(u1,X)\n",
    "    #set BC\n",
    "    u2[0]=g(tt)\n",
    "    u3=findCoeffs(u2,X)\n",
    "    uhat.append(u3)\n",
    "    #impose BC the Gottlieb way\n",
    "    u12,tt2=euler(tt2,uhat2[i],fgott,h)\n",
    "    uhat2.append(u12)\n",
    "\n",
    "#reconstruct\n",
    "uN=cheb.chebval(x,uhat[-1])\n",
    "uN2=cheb.chebval(x,uhat2[-1])\n",
    "plt.plot(x,uN)\n",
    "plt.plot(x,uN2)\n",
    "plt.plot(x,ue(x,t[-1]))\n",
    "plt.show()"
   ]
  },
  {
   "cell_type": "code",
   "execution_count": null,
   "metadata": {},
   "outputs": [],
   "source": []
  }
 ],
 "metadata": {
  "anaconda-cloud": {},
  "kernelspec": {
   "display_name": "Python [conda env:Anaconda3]",
   "language": "python",
   "name": "conda-env-Anaconda3-py"
  },
  "language_info": {
   "codemirror_mode": {
    "name": "ipython",
    "version": 3
   },
   "file_extension": ".py",
   "mimetype": "text/x-python",
   "name": "python",
   "nbconvert_exporter": "python",
   "pygments_lexer": "ipython3",
   "version": "3.5.5"
  }
 },
 "nbformat": 4,
 "nbformat_minor": 2
}
